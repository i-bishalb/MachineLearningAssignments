{
 "cells": [
  {
   "cell_type": "markdown",
   "id": "f15baeaa",
   "metadata": {},
   "source": [
    "# Predicting House prices (Regression)\n"
   ]
  },
  {
   "cell_type": "markdown",
   "id": "1d993383",
   "metadata": {},
   "source": [
    " ### In this notebook we are going to predict housing prices for the boston housing data"
   ]
  },
  {
   "cell_type": "code",
   "execution_count": 1,
   "id": "532058b0",
   "metadata": {},
   "outputs": [],
   "source": [
    "import os\n",
    "import numpy as np\n",
    "import pandas as pd\n",
    "\n",
    "\n",
    "import matplotlib.pyplot as plt\n",
    "import seaborn as sns\n",
    "\n",
    "\n",
    "import warnings\n",
    "warnings.filterwarnings('ignore', module='sklearn')\n",
    "\n"
   ]
  },
  {
   "cell_type": "markdown",
   "id": "f7a02878",
   "metadata": {},
   "source": [
    "\n",
    "## 1. Dataset\n"
   ]
  },
  {
   "cell_type": "code",
   "execution_count": 2,
   "id": "e40b0017",
   "metadata": {},
   "outputs": [
    {
     "data": {
      "text/html": [
       "<div>\n",
       "<style scoped>\n",
       "    .dataframe tbody tr th:only-of-type {\n",
       "        vertical-align: middle;\n",
       "    }\n",
       "\n",
       "    .dataframe tbody tr th {\n",
       "        vertical-align: top;\n",
       "    }\n",
       "\n",
       "    .dataframe thead th {\n",
       "        text-align: right;\n",
       "    }\n",
       "</style>\n",
       "<table border=\"1\" class=\"dataframe\">\n",
       "  <thead>\n",
       "    <tr style=\"text-align: right;\">\n",
       "      <th></th>\n",
       "      <th>CRIM</th>\n",
       "      <th>ZN</th>\n",
       "      <th>INDUS</th>\n",
       "      <th>CHAS</th>\n",
       "      <th>NOX</th>\n",
       "      <th>RM</th>\n",
       "      <th>AGE</th>\n",
       "      <th>DIS</th>\n",
       "      <th>RAD</th>\n",
       "      <th>TAX</th>\n",
       "      <th>PTRATIO</th>\n",
       "      <th>B</th>\n",
       "      <th>LSTAT</th>\n",
       "      <th>MEDV</th>\n",
       "    </tr>\n",
       "  </thead>\n",
       "  <tbody>\n",
       "    <tr>\n",
       "      <th>0</th>\n",
       "      <td>0.00632</td>\n",
       "      <td>18.0</td>\n",
       "      <td>2.31</td>\n",
       "      <td>0</td>\n",
       "      <td>0.538</td>\n",
       "      <td>6.575</td>\n",
       "      <td>65.2</td>\n",
       "      <td>4.0900</td>\n",
       "      <td>1</td>\n",
       "      <td>296.0</td>\n",
       "      <td>15.3</td>\n",
       "      <td>396.90</td>\n",
       "      <td>4.98</td>\n",
       "      <td>24.0</td>\n",
       "    </tr>\n",
       "    <tr>\n",
       "      <th>1</th>\n",
       "      <td>0.02731</td>\n",
       "      <td>0.0</td>\n",
       "      <td>7.07</td>\n",
       "      <td>0</td>\n",
       "      <td>0.469</td>\n",
       "      <td>6.421</td>\n",
       "      <td>78.9</td>\n",
       "      <td>4.9671</td>\n",
       "      <td>2</td>\n",
       "      <td>242.0</td>\n",
       "      <td>17.8</td>\n",
       "      <td>396.90</td>\n",
       "      <td>9.14</td>\n",
       "      <td>21.6</td>\n",
       "    </tr>\n",
       "    <tr>\n",
       "      <th>2</th>\n",
       "      <td>0.02729</td>\n",
       "      <td>0.0</td>\n",
       "      <td>7.07</td>\n",
       "      <td>0</td>\n",
       "      <td>0.469</td>\n",
       "      <td>7.185</td>\n",
       "      <td>61.1</td>\n",
       "      <td>4.9671</td>\n",
       "      <td>2</td>\n",
       "      <td>242.0</td>\n",
       "      <td>17.8</td>\n",
       "      <td>392.83</td>\n",
       "      <td>4.03</td>\n",
       "      <td>34.7</td>\n",
       "    </tr>\n",
       "    <tr>\n",
       "      <th>3</th>\n",
       "      <td>0.03237</td>\n",
       "      <td>0.0</td>\n",
       "      <td>2.18</td>\n",
       "      <td>0</td>\n",
       "      <td>0.458</td>\n",
       "      <td>6.998</td>\n",
       "      <td>45.8</td>\n",
       "      <td>6.0622</td>\n",
       "      <td>3</td>\n",
       "      <td>222.0</td>\n",
       "      <td>18.7</td>\n",
       "      <td>394.63</td>\n",
       "      <td>2.94</td>\n",
       "      <td>33.4</td>\n",
       "    </tr>\n",
       "    <tr>\n",
       "      <th>4</th>\n",
       "      <td>0.06905</td>\n",
       "      <td>0.0</td>\n",
       "      <td>2.18</td>\n",
       "      <td>0</td>\n",
       "      <td>0.458</td>\n",
       "      <td>7.147</td>\n",
       "      <td>54.2</td>\n",
       "      <td>6.0622</td>\n",
       "      <td>3</td>\n",
       "      <td>222.0</td>\n",
       "      <td>18.7</td>\n",
       "      <td>396.90</td>\n",
       "      <td>5.33</td>\n",
       "      <td>36.2</td>\n",
       "    </tr>\n",
       "  </tbody>\n",
       "</table>\n",
       "</div>"
      ],
      "text/plain": [
       "      CRIM    ZN  INDUS  CHAS    NOX     RM   AGE     DIS  RAD    TAX  \\\n",
       "0  0.00632  18.0   2.31     0  0.538  6.575  65.2  4.0900    1  296.0   \n",
       "1  0.02731   0.0   7.07     0  0.469  6.421  78.9  4.9671    2  242.0   \n",
       "2  0.02729   0.0   7.07     0  0.469  7.185  61.1  4.9671    2  242.0   \n",
       "3  0.03237   0.0   2.18     0  0.458  6.998  45.8  6.0622    3  222.0   \n",
       "4  0.06905   0.0   2.18     0  0.458  7.147  54.2  6.0622    3  222.0   \n",
       "\n",
       "   PTRATIO       B  LSTAT  MEDV  \n",
       "0     15.3  396.90   4.98  24.0  \n",
       "1     17.8  396.90   9.14  21.6  \n",
       "2     17.8  392.83   4.03  34.7  \n",
       "3     18.7  394.63   2.94  33.4  \n",
       "4     18.7  396.90   5.33  36.2  "
      ]
     },
     "execution_count": 2,
     "metadata": {},
     "output_type": "execute_result"
    }
   ],
   "source": [
    "# importing Boston housing data set from archive.ics.uci.edu into pandas dataframe.\n",
    "\n",
    "\n",
    "'''\n",
    " Attributes Information:\n",
    "\n",
    "    1. CRIM      per capita crime rate by town\n",
    "    2. ZN        proportion of residential land zoned for lots over\n",
    "                 25,000 sq.ft.\n",
    "    3. INDUS     proportion of non-retail business acres per town\n",
    "    4. CHAS      Charles River dummy variable (= 1 if tract bounds\n",
    "                 river; 0 otherwise)\n",
    "    5. NOX       nitric oxides concentration (parts per 10 million)\n",
    "    6. RM        average number of rooms per dwelling\n",
    "    7. AGE       proportion of owner-occupied units built prior to 1940\n",
    "    8. DIS       weighted distances to five Boston employment centres\n",
    "    9. RAD       index of accessibility to radial highways\n",
    "    10. TAX      full-value property-tax rate per $10,000\n",
    "    11. PTRATIO  pupil-teacher ratio by town\n",
    "    12. B        1000(Bk - 0.63)^2 where Bk is the proportion of blacks\n",
    "                 by town\n",
    "    13. LSTAT    % lower status of the population\n",
    "    14. MEDV     Median value of owner-occupied homes in $1000's\n",
    "\n",
    "'''\n",
    "\n",
    "data = pd.read_csv('https://archive.ics.uci.edu/ml/machine-learning-databases/housing/housing.data',\n",
    "                   header=None, sep='\\s+')\n",
    "\n",
    "data.columns = ['CRIM', 'ZN', 'INDUS', 'CHAS','NOX', 'RM', 'AGE', 'DIS', \n",
    "                'RAD','TAX', 'PTRATIO', 'B', 'LSTAT', 'MEDV']\n",
    "\n",
    "data.head()"
   ]
  },
  {
   "cell_type": "markdown",
   "id": "ec0c901b",
   "metadata": {},
   "source": [
    "\n",
    "\n",
    "## Initial plan for data exploration\n",
    "\n",
    "<ol>\n",
    "    <li> Check for missing values, possible correlations. </li>\n",
    "    <li> Use visualation and other tools to check if some features have impact on MEDV. </li>\n",
    "</ol>\n",
    "\n",
    " "
   ]
  },
  {
   "cell_type": "markdown",
   "id": "8fe616a8",
   "metadata": {},
   "source": [
    "\n",
    "## 2. Exploratory Data Analysis (EDA)"
   ]
  },
  {
   "cell_type": "code",
   "execution_count": 3,
   "id": "5b7c1b28",
   "metadata": {},
   "outputs": [],
   "source": [
    "df = data.copy() # Copying data to df and keeping data pristin "
   ]
  },
  {
   "cell_type": "code",
   "execution_count": 4,
   "id": "a28ff779",
   "metadata": {},
   "outputs": [
    {
     "data": {
      "text/plain": [
       "(506, 14)"
      ]
     },
     "execution_count": 4,
     "metadata": {},
     "output_type": "execute_result"
    }
   ],
   "source": [
    "df.shape # Number of rows and columns"
   ]
  },
  {
   "cell_type": "code",
   "execution_count": 5,
   "id": "c5371046",
   "metadata": {},
   "outputs": [
    {
     "data": {
      "text/plain": [
       "CRIM       float64\n",
       "ZN         float64\n",
       "INDUS      float64\n",
       "CHAS         int64\n",
       "NOX        float64\n",
       "RM         float64\n",
       "AGE        float64\n",
       "DIS        float64\n",
       "RAD          int64\n",
       "TAX        float64\n",
       "PTRATIO    float64\n",
       "B          float64\n",
       "LSTAT      float64\n",
       "MEDV       float64\n",
       "dtype: object"
      ]
     },
     "execution_count": 5,
     "metadata": {},
     "output_type": "execute_result"
    }
   ],
   "source": [
    "df.dtypes # Check data-type in df, no object type data (all numeric)"
   ]
  },
  {
   "cell_type": "markdown",
   "id": "e4532bf4",
   "metadata": {},
   "source": [
    "\n",
    "**We do not have any object datatype so no need for One Hot Encoding (Feature Engineering) for this dataset.** \n"
   ]
  },
  {
   "cell_type": "code",
   "execution_count": 6,
   "id": "25b601f5",
   "metadata": {},
   "outputs": [
    {
     "data": {
      "text/plain": [
       "CRIM       0\n",
       "ZN         0\n",
       "INDUS      0\n",
       "CHAS       0\n",
       "NOX        0\n",
       "RM         0\n",
       "AGE        0\n",
       "DIS        0\n",
       "RAD        0\n",
       "TAX        0\n",
       "PTRATIO    0\n",
       "B          0\n",
       "LSTAT      0\n",
       "MEDV       0\n",
       "dtype: int64"
      ]
     },
     "execution_count": 6,
     "metadata": {},
     "output_type": "execute_result"
    }
   ],
   "source": [
    "df.isna().sum()  #Checking for null values ( None of them are null )"
   ]
  },
  {
   "cell_type": "code",
   "execution_count": 7,
   "id": "7cc63016",
   "metadata": {},
   "outputs": [
    {
     "data": {
      "text/html": [
       "<div>\n",
       "<style scoped>\n",
       "    .dataframe tbody tr th:only-of-type {\n",
       "        vertical-align: middle;\n",
       "    }\n",
       "\n",
       "    .dataframe tbody tr th {\n",
       "        vertical-align: top;\n",
       "    }\n",
       "\n",
       "    .dataframe thead th {\n",
       "        text-align: right;\n",
       "    }\n",
       "</style>\n",
       "<table border=\"1\" class=\"dataframe\">\n",
       "  <thead>\n",
       "    <tr style=\"text-align: right;\">\n",
       "      <th></th>\n",
       "      <th>CRIM</th>\n",
       "      <th>ZN</th>\n",
       "      <th>INDUS</th>\n",
       "      <th>CHAS</th>\n",
       "      <th>NOX</th>\n",
       "      <th>RM</th>\n",
       "      <th>AGE</th>\n",
       "      <th>DIS</th>\n",
       "      <th>RAD</th>\n",
       "      <th>TAX</th>\n",
       "      <th>PTRATIO</th>\n",
       "      <th>B</th>\n",
       "      <th>LSTAT</th>\n",
       "      <th>MEDV</th>\n",
       "    </tr>\n",
       "  </thead>\n",
       "  <tbody>\n",
       "    <tr>\n",
       "      <th>count</th>\n",
       "      <td>506.000000</td>\n",
       "      <td>506.000000</td>\n",
       "      <td>506.000000</td>\n",
       "      <td>506.000000</td>\n",
       "      <td>506.000000</td>\n",
       "      <td>506.000000</td>\n",
       "      <td>506.000000</td>\n",
       "      <td>506.000000</td>\n",
       "      <td>506.000000</td>\n",
       "      <td>506.000000</td>\n",
       "      <td>506.000000</td>\n",
       "      <td>506.000000</td>\n",
       "      <td>506.000000</td>\n",
       "      <td>506.000000</td>\n",
       "    </tr>\n",
       "    <tr>\n",
       "      <th>mean</th>\n",
       "      <td>3.613524</td>\n",
       "      <td>11.363636</td>\n",
       "      <td>11.136779</td>\n",
       "      <td>0.069170</td>\n",
       "      <td>0.554695</td>\n",
       "      <td>6.284634</td>\n",
       "      <td>68.574901</td>\n",
       "      <td>3.795043</td>\n",
       "      <td>9.549407</td>\n",
       "      <td>408.237154</td>\n",
       "      <td>18.455534</td>\n",
       "      <td>356.674032</td>\n",
       "      <td>12.653063</td>\n",
       "      <td>22.532806</td>\n",
       "    </tr>\n",
       "    <tr>\n",
       "      <th>std</th>\n",
       "      <td>8.601545</td>\n",
       "      <td>23.322453</td>\n",
       "      <td>6.860353</td>\n",
       "      <td>0.253994</td>\n",
       "      <td>0.115878</td>\n",
       "      <td>0.702617</td>\n",
       "      <td>28.148861</td>\n",
       "      <td>2.105710</td>\n",
       "      <td>8.707259</td>\n",
       "      <td>168.537116</td>\n",
       "      <td>2.164946</td>\n",
       "      <td>91.294864</td>\n",
       "      <td>7.141062</td>\n",
       "      <td>9.197104</td>\n",
       "    </tr>\n",
       "    <tr>\n",
       "      <th>min</th>\n",
       "      <td>0.006320</td>\n",
       "      <td>0.000000</td>\n",
       "      <td>0.460000</td>\n",
       "      <td>0.000000</td>\n",
       "      <td>0.385000</td>\n",
       "      <td>3.561000</td>\n",
       "      <td>2.900000</td>\n",
       "      <td>1.129600</td>\n",
       "      <td>1.000000</td>\n",
       "      <td>187.000000</td>\n",
       "      <td>12.600000</td>\n",
       "      <td>0.320000</td>\n",
       "      <td>1.730000</td>\n",
       "      <td>5.000000</td>\n",
       "    </tr>\n",
       "    <tr>\n",
       "      <th>25%</th>\n",
       "      <td>0.082045</td>\n",
       "      <td>0.000000</td>\n",
       "      <td>5.190000</td>\n",
       "      <td>0.000000</td>\n",
       "      <td>0.449000</td>\n",
       "      <td>5.885500</td>\n",
       "      <td>45.025000</td>\n",
       "      <td>2.100175</td>\n",
       "      <td>4.000000</td>\n",
       "      <td>279.000000</td>\n",
       "      <td>17.400000</td>\n",
       "      <td>375.377500</td>\n",
       "      <td>6.950000</td>\n",
       "      <td>17.025000</td>\n",
       "    </tr>\n",
       "    <tr>\n",
       "      <th>50%</th>\n",
       "      <td>0.256510</td>\n",
       "      <td>0.000000</td>\n",
       "      <td>9.690000</td>\n",
       "      <td>0.000000</td>\n",
       "      <td>0.538000</td>\n",
       "      <td>6.208500</td>\n",
       "      <td>77.500000</td>\n",
       "      <td>3.207450</td>\n",
       "      <td>5.000000</td>\n",
       "      <td>330.000000</td>\n",
       "      <td>19.050000</td>\n",
       "      <td>391.440000</td>\n",
       "      <td>11.360000</td>\n",
       "      <td>21.200000</td>\n",
       "    </tr>\n",
       "    <tr>\n",
       "      <th>75%</th>\n",
       "      <td>3.677083</td>\n",
       "      <td>12.500000</td>\n",
       "      <td>18.100000</td>\n",
       "      <td>0.000000</td>\n",
       "      <td>0.624000</td>\n",
       "      <td>6.623500</td>\n",
       "      <td>94.075000</td>\n",
       "      <td>5.188425</td>\n",
       "      <td>24.000000</td>\n",
       "      <td>666.000000</td>\n",
       "      <td>20.200000</td>\n",
       "      <td>396.225000</td>\n",
       "      <td>16.955000</td>\n",
       "      <td>25.000000</td>\n",
       "    </tr>\n",
       "    <tr>\n",
       "      <th>max</th>\n",
       "      <td>88.976200</td>\n",
       "      <td>100.000000</td>\n",
       "      <td>27.740000</td>\n",
       "      <td>1.000000</td>\n",
       "      <td>0.871000</td>\n",
       "      <td>8.780000</td>\n",
       "      <td>100.000000</td>\n",
       "      <td>12.126500</td>\n",
       "      <td>24.000000</td>\n",
       "      <td>711.000000</td>\n",
       "      <td>22.000000</td>\n",
       "      <td>396.900000</td>\n",
       "      <td>37.970000</td>\n",
       "      <td>50.000000</td>\n",
       "    </tr>\n",
       "  </tbody>\n",
       "</table>\n",
       "</div>"
      ],
      "text/plain": [
       "             CRIM          ZN       INDUS        CHAS         NOX          RM  \\\n",
       "count  506.000000  506.000000  506.000000  506.000000  506.000000  506.000000   \n",
       "mean     3.613524   11.363636   11.136779    0.069170    0.554695    6.284634   \n",
       "std      8.601545   23.322453    6.860353    0.253994    0.115878    0.702617   \n",
       "min      0.006320    0.000000    0.460000    0.000000    0.385000    3.561000   \n",
       "25%      0.082045    0.000000    5.190000    0.000000    0.449000    5.885500   \n",
       "50%      0.256510    0.000000    9.690000    0.000000    0.538000    6.208500   \n",
       "75%      3.677083   12.500000   18.100000    0.000000    0.624000    6.623500   \n",
       "max     88.976200  100.000000   27.740000    1.000000    0.871000    8.780000   \n",
       "\n",
       "              AGE         DIS         RAD         TAX     PTRATIO           B  \\\n",
       "count  506.000000  506.000000  506.000000  506.000000  506.000000  506.000000   \n",
       "mean    68.574901    3.795043    9.549407  408.237154   18.455534  356.674032   \n",
       "std     28.148861    2.105710    8.707259  168.537116    2.164946   91.294864   \n",
       "min      2.900000    1.129600    1.000000  187.000000   12.600000    0.320000   \n",
       "25%     45.025000    2.100175    4.000000  279.000000   17.400000  375.377500   \n",
       "50%     77.500000    3.207450    5.000000  330.000000   19.050000  391.440000   \n",
       "75%     94.075000    5.188425   24.000000  666.000000   20.200000  396.225000   \n",
       "max    100.000000   12.126500   24.000000  711.000000   22.000000  396.900000   \n",
       "\n",
       "            LSTAT        MEDV  \n",
       "count  506.000000  506.000000  \n",
       "mean    12.653063   22.532806  \n",
       "std      7.141062    9.197104  \n",
       "min      1.730000    5.000000  \n",
       "25%      6.950000   17.025000  \n",
       "50%     11.360000   21.200000  \n",
       "75%     16.955000   25.000000  \n",
       "max     37.970000   50.000000  "
      ]
     },
     "execution_count": 7,
     "metadata": {},
     "output_type": "execute_result"
    }
   ],
   "source": [
    "df.describe() "
   ]
  },
  {
   "cell_type": "markdown",
   "id": "06260582",
   "metadata": {},
   "source": [
    "## Notable highlights form the data.\n",
    "\n",
    "<ol>\n",
    "    <li> CRIM (per capita crime rate by town):: Q3 (75%) = 3.67, Median = 0.25, Max = 88.97. It seems this feature may have lot of outliers. </li>\n",
    "    <li> AGE (proportion of owner-occupied units built prior to 1940):: Mean = 68.57, Median = 77.50. It seems quite high i.e. lot of old buildings. </li>\n",
    "    \n",
    "</ol>\n",
    "\n",
    " "
   ]
  },
  {
   "cell_type": "markdown",
   "id": "a6dd66d2",
   "metadata": {},
   "source": [
    "\n",
    "## Visualization of the data"
   ]
  },
  {
   "cell_type": "code",
   "execution_count": 8,
   "id": "971ec2b1",
   "metadata": {},
   "outputs": [],
   "source": [
    "cols = ['CRIM', 'ZN', 'INDUS', 'NOX', 'RM', 'AGE', 'DIS', 'RAD','TAX', 'PTRATIO', 'B', 'LSTAT']\n",
    "\n",
    "nrows = 4\n",
    "ncols = 3\n",
    "fig, ax  = plt.subplots(nrows, ncols, figsize=(12,12))\n",
    "\n",
    "for ii in range(len(cols)):\n",
    "    row = ii % nrows\n",
    "    col = ii % ncols\n",
    "    \n",
    "    ax[row][col].scatter(data.MEDV.values, data[cols[ii]].values, alpha = 0.2)\n",
    "    ax[row][col].set_xlabel('MEDV')\n",
    "    ax[row][col].set_ylabel(cols[ii])\n",
    "    \n",
    "plt.tight_layout()"
   ]
  },
  {
   "cell_type": "markdown",
   "id": "970a3029",
   "metadata": {},
   "source": [
    " ### From the above scatterplot we observe: \n",
    "(1) Positive correlation between RM and MEDV (i.e average number of rooms per dwelling vs. Median value of owner-occupied homes in 1000's). <br> \n",
    " (2) Negative correlation between LSTAT and MEDV (i.e. percentage lower status of the population vs. Median value of owner-occupied homes in 1000's). <br> "
   ]
  },
  {
   "cell_type": "code",
   "execution_count": 9,
   "id": "0f9c6f56",
   "metadata": {},
   "outputs": [
    {
     "data": {
      "image/png": "[encoded data removed]",
      "text/plain": [
       "<Figure size 720x720 with 20 Axes>"
      ]
     },
     "metadata": {
      "needs_background": "light"
     },
     "output_type": "display_data"
    }
   ],
   "source": [
    "%matplotlib inline \n",
    "sns.set_context('talk')\n",
    "\n",
    "cols = ['CRIM', 'RM', 'LSTAT', 'MEDV']\n",
    "\n",
    "plot_data = df[cols]\n",
    "\n",
    "sns.pairplot(plot_data, diag_kind ='kde')\n",
    "plt.tight_layout()\n",
    "plt.show()"
   ]
  },
  {
   "cell_type": "markdown",
   "id": "2757cf1b",
   "metadata": {},
   "source": [
    "### From above pairplot \n",
    "\n",
    "**We further observe negative correlation between LSTAT and RM.**"
   ]
  },
  {
   "cell_type": "code",
   "execution_count": 10,
   "id": "2e78ee31",
   "metadata": {},
   "outputs": [
    {
     "data": {
      "image/png": "[encoded data removed]",
      "text/plain": [
       "<Figure size 720x720 with 4 Axes>"
      ]
     },
     "metadata": {
      "needs_background": "light"
     },
     "output_type": "display_data"
    }
   ],
   "source": [
    "cols = ['CRIM', 'RM', 'LSTAT', 'MEDV']\n",
    "\n",
    "nrows = 2\n",
    "ncols = 2\n",
    "\n",
    "fig, ax  = plt.subplots(nrows, ncols, figsize=(10,10))\n",
    "\n",
    "\n",
    "for ii in range(len(cols)):\n",
    "    \n",
    "    row = ii % nrows\n",
    "    col = ii // ncols\n",
    "\n",
    "    \n",
    "    sns.boxplot(ax = ax[row,col], x= cols[ii], data =df)\n",
    "  \n",
    "\n",
    "plt.tight_layout()\n",
    "plt.show()"
   ]
  },
  {
   "cell_type": "code",
   "execution_count": 11,
   "id": "1c1d109c",
   "metadata": {},
   "outputs": [
    {
     "data": {
      "text/plain": [
       "LSTAT     -0.737663\n",
       "PTRATIO   -0.507787\n",
       "INDUS     -0.483725\n",
       "TAX       -0.468536\n",
       "NOX       -0.427321\n",
       "CRIM      -0.388305\n",
       "RAD       -0.381626\n",
       "AGE       -0.376955\n",
       "CHAS       0.175260\n",
       "DIS        0.249929\n",
       "B          0.333461\n",
       "ZN         0.360445\n",
       "RM         0.695360\n",
       "MEDV       1.000000\n",
       "Name: MEDV, dtype: float64"
      ]
     },
     "execution_count": 11,
     "metadata": {},
     "output_type": "execute_result"
    }
   ],
   "source": [
    "cols = ['CRIM', 'ZN', 'INDUS', 'CHAS','NOX', 'RM', 'AGE', 'DIS', \n",
    "                'RAD','TAX', 'PTRATIO', 'B', 'LSTAT', 'MEDV']\n",
    "\n",
    "\n",
    "corrs = data[cols].corr()['MEDV'].sort_values()\n",
    "\n",
    "index_list = list(corrs.index)\n",
    "value_list = list(corrs.values)\n",
    "\n",
    "\n",
    "corrs"
   ]
  },
  {
   "cell_type": "code",
   "execution_count": 12,
   "id": "c7559beb",
   "metadata": {},
   "outputs": [
    {
     "name": "stdout",
     "output_type": "stream",
     "text": [
      " LSTAT  \t \t -0.737663\n",
      " PTRATIO  \t \t -0.507787\n",
      " RM  \t \t 0.695360\n",
      " MEDV  \t \t 1.000000\n"
     ]
    }
   ],
   "source": [
    "#Lets only select features with correlation greater than abs(0.50)\n",
    "\n",
    "selected_cols = []\n",
    "for x, y in zip(index_list, value_list):\n",
    "    if abs(y) >= 0.50:\n",
    "        print(' %s  \\t \\t %f'%(x,y))\n",
    "        selected_cols.append(x)"
   ]
  },
  {
   "cell_type": "code",
   "execution_count": 13,
   "id": "a799862a",
   "metadata": {},
   "outputs": [
    {
     "data": {
      "image/png": "[encoded data removed]",
      "text/plain": [
       "<Figure size 432x432 with 2 Axes>"
      ]
     },
     "metadata": {
      "needs_background": "light"
     },
     "output_type": "display_data"
    }
   ],
   "source": [
    "# Pearson correlation between the selected features\n",
    "\n",
    "plt.figure(figsize = (6, 6))\n",
    "from mlxtend.plotting import heatmap\n",
    "\n",
    "\n",
    "cm = data[selected_cols].corr()\n",
    "\n",
    "sns.heatmap(cm, cmap = 'RdBu', annot = True, fmt ='0.2f')\n",
    "plt.title('Correlation Heatmap')\n",
    "plt.tight_layout()\n",
    "plt.show()"
   ]
  },
  {
   "cell_type": "markdown",
   "id": "ad98bb71",
   "metadata": {},
   "source": [
    "### Feature Correlations: \n",
    "\n",
    "For the features with pearson's correlations Coefficient (r) greater or equal to abs(0.5). We observer the following: \n",
    "\n",
    "- MEDV is positively correlated with RM (r = 0.70) and negatively correlated with LSTAT( r= -0.74) and PTRATIO (-0.51).\n",
    "- RM and LSTAT are negatively correlated (r=-0.61).\n"
   ]
  },
  {
   "cell_type": "markdown",
   "id": "7535d955",
   "metadata": {},
   "source": [
    "# 3. Regression"
   ]
  },
  {
   "cell_type": "code",
   "execution_count": 14,
   "id": "263ae9b6",
   "metadata": {},
   "outputs": [],
   "source": [
    "from sklearn.model_selection import train_test_split\n",
    "from sklearn.preprocessing import (StandardScaler, \n",
    "                                   PolynomialFeatures)\n",
    "from sklearn.model_selection import KFold, cross_val_predict\n",
    "from sklearn.linear_model import LinearRegression, Lasso, Ridge, ElasticNet\n",
    "from sklearn.metrics import r2_score\n",
    "from sklearn.pipeline import Pipeline"
   ]
  },
  {
   "cell_type": "markdown",
   "id": "80e3a578",
   "metadata": {},
   "source": [
    "### Extracting data from the boston dataframe"
   ]
  },
  {
   "cell_type": "code",
   "execution_count": 15,
   "id": "05ef27d9",
   "metadata": {},
   "outputs": [],
   "source": [
    "X_total = df.drop('MEDV', axis = 1)\n",
    "y_total = df.MEDV"
   ]
  },
  {
   "cell_type": "markdown",
   "id": "463b70ab",
   "metadata": {},
   "source": [
    "### Visualizing MEDV"
   ]
  },
  {
   "cell_type": "code",
   "execution_count": 16,
   "id": "6c95c77a",
   "metadata": {},
   "outputs": [
    {
     "data": {
      "image/png": "[encoded data removed]",
      "text/plain": [
       "<Figure size 432x288 with 1 Axes>"
      ]
     },
     "metadata": {
      "needs_background": "light"
     },
     "output_type": "display_data"
    }
   ],
   "source": [
    "%matplotlib inline \n",
    "plt.grid()\n",
    "plt.hist(y_total, bins = 20)\n",
    "plt.show()"
   ]
  },
  {
   "cell_type": "markdown",
   "id": "980ec056",
   "metadata": {},
   "source": [
    "The MEDV values are slightly right skewed with peak around 20-25 in ($1000's) "
   ]
  },
  {
   "cell_type": "markdown",
   "id": "82ae9ebc",
   "metadata": {},
   "source": [
    "### Test and Train Split"
   ]
  },
  {
   "cell_type": "code",
   "execution_count": 17,
   "id": "51354d40",
   "metadata": {},
   "outputs": [],
   "source": [
    "X_train, X_test, y_train, y_test = train_test_split(X_total, y_total, test_size=0.15, random_state=42)"
   ]
  },
  {
   "cell_type": "markdown",
   "id": "900ad067",
   "metadata": {},
   "source": [
    "### K-fold"
   ]
  },
  {
   "cell_type": "code",
   "execution_count": 18,
   "id": "05647383",
   "metadata": {},
   "outputs": [],
   "source": [
    "kf = KFold(shuffle=True, random_state=72018, n_splits=3)"
   ]
  },
  {
   "cell_type": "markdown",
   "id": "41df62a8",
   "metadata": {},
   "source": [
    "## 3(a). Linear regression "
   ]
  },
  {
   "cell_type": "code",
   "execution_count": 19,
   "id": "06fdac64",
   "metadata": {},
   "outputs": [
    {
     "name": "stdout",
     "output_type": "stream",
     "text": [
      "CV score        : 0.6757269673488233\n",
      "Train (R2 score): 0.7320380961925158\n",
      "Test (R2 score) : 0.7899225946923967\n"
     ]
    }
   ],
   "source": [
    "s = StandardScaler()\n",
    "lr = LinearRegression()\n",
    "\n",
    "estimator_lr = Pipeline([(\"scaler\", s),(\"regression\", lr)])\n",
    "\n",
    "#----------------------------- CV----------------------\n",
    "predictions_CV = cross_val_predict(estimator_lr, X_train, y_train, cv=kf)\n",
    "\n",
    "#------------------------------Train accuracy------------\n",
    "estimator_lr.fit(X_train, y_train)\n",
    "predictions_train = estimator_lr.predict(X_train)\n",
    "\n",
    "#------------------------------Test accuracy \n",
    "predictions_test = estimator_lr.predict(X_test)\n",
    "\n",
    "print(\"CV score        :\", r2_score(y_train, predictions_CV))\n",
    "print(\"Train (R2 score):\", r2_score(y_train, predictions_train))\n",
    "print(\"Test (R2 score) :\", r2_score(y_test, predictions_test))"
   ]
  },
  {
   "cell_type": "markdown",
   "id": "131462d9",
   "metadata": {},
   "source": [
    "### Linear Regression with Polynomial of degree 2"
   ]
  },
  {
   "cell_type": "code",
   "execution_count": 20,
   "id": "697c5f3e",
   "metadata": {},
   "outputs": [
    {
     "name": "stdout",
     "output_type": "stream",
     "text": [
      "CV score        : 0.7459307244956475\n",
      "Train (R2 score): 0.932063572243147\n",
      "Test (R2 score) : 0.8598205631718165\n"
     ]
    }
   ],
   "source": [
    "s = StandardScaler()\n",
    "lr = LinearRegression()\n",
    "pf = PolynomialFeatures(degree=2)\n",
    "\n",
    "\n",
    "estimator_lrp = Pipeline([(\"scaler\", s),\n",
    "                    (\"make_higher_degree\", pf),\n",
    "                      (\"regression\", lr)])\n",
    "\n",
    "\n",
    "#----------------------------- CV----------------------\n",
    "predictions_CV = cross_val_predict(estimator_lrp, X_train, y_train, cv=kf)\n",
    "\n",
    "#------------------------------Train accuracy------------\n",
    "estimator_lrp.fit(X_train, y_train)\n",
    "predictions_train = estimator_lrp.predict(X_train)\n",
    "\n",
    "#------------------------------Test accuracy \n",
    "predictions_test = estimator_lrp.predict(X_test)\n",
    "\n",
    "print(\"CV score        :\", r2_score(y_train, predictions_CV))\n",
    "print(\"Train (R2 score):\", r2_score(y_train, predictions_train))\n",
    "print(\"Test (R2 score) :\", r2_score(y_test, predictions_test))"
   ]
  },
  {
   "cell_type": "code",
   "execution_count": 21,
   "id": "0657f401",
   "metadata": {},
   "outputs": [
    {
     "name": "stdout",
     "output_type": "stream",
     "text": [
      "Total Features without Polynomial         :  13\n",
      "Total Features with Polynomial (degree =2): 105\n"
     ]
    }
   ],
   "source": [
    "estimator_lrp.fit(X_train, y_train)\n",
    "print(\"Total Features without Polynomial         : \",X_train.shape[1])\n",
    "print(\"Total Features with Polynomial (degree =2):\",len(estimator_lrp.named_steps[\"regression\"].coef_))"
   ]
  },
  {
   "cell_type": "markdown",
   "id": "ac1590dc",
   "metadata": {},
   "source": [
    "**Although our accuracy of prediction improved with the introduction of polynomial features. The accuracy from train to test decreased highlighting overfitting of some features.**\n",
    "\n",
    "**Our features have increased from 13 (without polynomial) to 105. We will further investigate using regularization to resolve overfitting and reducing the model complexity in the below section.**"
   ]
  },
  {
   "cell_type": "markdown",
   "id": "3db7877a",
   "metadata": {},
   "source": [
    "### 3(b) Ridge Regression"
   ]
  },
  {
   "cell_type": "markdown",
   "id": "6be2d56e",
   "metadata": {},
   "source": [
    "### Hyperparameter tuning"
   ]
  },
  {
   "cell_type": "code",
   "execution_count": 22,
   "id": "4ec66fc6",
   "metadata": {},
   "outputs": [
    {
     "data": {
      "text/plain": [
       "{'polynomial_features__degree': 2,\n",
       " 'ridge_regression__alpha': 8.562664797438774}"
      ]
     },
     "execution_count": 22,
     "metadata": {},
     "output_type": "execute_result"
    }
   ],
   "source": [
    "from sklearn.model_selection import GridSearchCV\n",
    "\n",
    "estimator = Pipeline([(\"scaler\", StandardScaler()),\n",
    "        (\"polynomial_features\", PolynomialFeatures()),\n",
    "        (\"ridge_regression\", Ridge())])\n",
    "\n",
    "params = {\n",
    "    'polynomial_features__degree': [1, 2],\n",
    "    'ridge_regression__alpha': np.geomspace(2*1e-6, 2*1e1, num=20)\n",
    "}\n",
    "\n",
    "grid = GridSearchCV(estimator, params, cv=kf)\n",
    "\n",
    "grid.fit(X_train, y_train)\n",
    "grid.best_params_"
   ]
  },
  {
   "cell_type": "markdown",
   "id": "d37e2cec",
   "metadata": {},
   "source": [
    "We will use the best parameters obtained from GridSearch to build regression model using Ridge Regression below."
   ]
  },
  {
   "cell_type": "code",
   "execution_count": 23,
   "id": "717509fe",
   "metadata": {},
   "outputs": [
    {
     "name": "stdout",
     "output_type": "stream",
     "text": [
      "CV score        : 0.8312748129837265\n",
      "Train (R2 score): 0.9199832533688356\n",
      "Test (R2 score) : 0.8955266011086827\n"
     ]
    }
   ],
   "source": [
    "estimator_Rp = Pipeline([(\"scaler\", StandardScaler()),\n",
    "        (\"polynomial_features\", PolynomialFeatures(degree = 2)),\n",
    "        (\"ridge_regression\", Ridge(alpha= 8.562))])\n",
    "\n",
    "\n",
    "#----------------------------- CV----------------------\n",
    "predictions_CV = cross_val_predict(estimator_Rp, X_train, y_train, cv=kf)\n",
    "\n",
    "#------------------------------Train accuracy------------\n",
    "estimator_Rp.fit(X_train, y_train)\n",
    "predictions_train = estimator_Rp.predict(X_train)\n",
    "\n",
    "#------------------------------Test accuracy \n",
    "predictions_test = estimator_Rp.predict(X_test)\n",
    "\n",
    "print(\"CV score        :\", r2_score(y_train, predictions_CV))\n",
    "print(\"Train (R2 score):\", r2_score(y_train, predictions_train))\n",
    "print(\"Test (R2 score) :\", r2_score(y_test, predictions_test))\n",
    "\n"
   ]
  },
  {
   "cell_type": "code",
   "execution_count": 24,
   "id": "34bef50c",
   "metadata": {},
   "outputs": [
    {
     "name": "stdout",
     "output_type": "stream",
     "text": [
      "Total Features without Polynomial         :  13\n",
      "Total Features with Polynomial (degree =2): 101\n"
     ]
    }
   ],
   "source": [
    "estimator_Rp.fit(X_train, y_train)\n",
    "print(\"Total Features without Polynomial         : \",X_train.shape[1])\n",
    "\n",
    "\n",
    "NonZero_Rp = [x for x in list(estimator_Rp.named_steps[\"ridge_regression\"].coef_) if abs(x) >= 0.01]\n",
    "\n",
    "print(\"Total Features with Polynomial (degree =2):\", len(NonZero_Rp))\n"
   ]
  },
  {
   "cell_type": "code",
   "execution_count": 25,
   "id": "84b72561",
   "metadata": {},
   "outputs": [
    {
     "data": {
      "text/plain": [
       "array([ 0.00000000e+00, -6.62726003e-02,  1.57205065e-01,  1.54090602e-01,\n",
       "        9.68312890e-02, -1.02806047e+00,  3.40314210e+00, -8.86587121e-01,\n",
       "       -2.32150322e+00,  9.92844295e-01, -1.13632022e+00, -6.83588188e-01,\n",
       "        7.90803714e-01, -3.32245709e+00,  3.87732236e-02, -1.53140784e-02,\n",
       "        7.59873517e-02,  2.29177133e+00, -6.45634967e-01,  8.89964445e-01,\n",
       "        8.59414599e-02,  3.09334656e-02, -9.03828201e-01,  1.73995922e-01,\n",
       "       -6.23928274e-02, -1.61012369e-01,  1.05867158e+00,  2.51291337e-01,\n",
       "        2.02941902e-02,  7.90732451e-02, -1.45736562e-02, -3.67024800e-02,\n",
       "        2.35283089e-04, -4.95813974e-01, -3.70540173e-01,  1.08029232e+00,\n",
       "        1.50902481e-01, -9.14435940e-02, -5.76254159e-01,  8.10129457e-01,\n",
       "       -5.02962441e-02,  1.09473028e+00,  7.11939998e-01,  6.21979048e-01,\n",
       "        1.00691121e+00, -2.88723268e-02,  2.64197135e-01, -5.51360690e-01,\n",
       "        4.29988430e-01, -7.60871969e-01,  3.27059534e-01, -8.67187818e-01,\n",
       "       -8.34594739e-01,  4.72638415e-02, -4.53008624e-02,  8.35194301e-03,\n",
       "        5.96427109e-01, -2.62141651e-01, -1.66733535e-02, -3.62054322e-01,\n",
       "       -5.01220929e-01, -4.01545610e-01, -6.68481392e-01,  1.00430829e+00,\n",
       "       -9.69199963e-01,  1.39167561e-01, -7.25049003e-01, -1.14464722e-01,\n",
       "        7.44599568e-01,  1.20475119e-01, -8.41412155e-01, -5.22762668e-02,\n",
       "       -9.20665897e-01, -1.10531843e+00, -1.02388072e+00, -1.15088133e-01,\n",
       "       -9.95371462e-01,  1.63883158e-01,  8.54955992e-02,  1.43894169e+00,\n",
       "       -3.62230053e-02,  2.07461674e-03, -1.10754663e+00, -1.23826160e+00,\n",
       "        1.34912689e+00, -7.68792790e-01, -4.90750655e-01, -3.42128075e-01,\n",
       "       -3.06238970e-01,  7.92618765e-01, -1.14726072e+00,  1.09840117e+00,\n",
       "        4.07781627e-01, -5.76254102e-02, -1.49872665e+00, -3.97485495e-02,\n",
       "        1.46412846e+00, -5.58993619e-01, -1.37665420e+00, -4.36478853e-02,\n",
       "        1.78182353e-01,  1.10664250e-01, -3.69040615e-01, -5.03594168e-01,\n",
       "        7.63503765e-01])"
      ]
     },
     "execution_count": 25,
     "metadata": {},
     "output_type": "execute_result"
    }
   ],
   "source": [
    "estimator_Rp.named_steps[\"ridge_regression\"].coef_"
   ]
  },
  {
   "cell_type": "markdown",
   "id": "de23c908",
   "metadata": {},
   "source": [
    "**We have managed to improve our test prediction and reduced the difference between train and test prediction by using Ridge regression.**\n",
    "\n"
   ]
  },
  {
   "cell_type": "markdown",
   "id": "d23bb4d5",
   "metadata": {},
   "source": [
    "### 3(c) LASSO Regression"
   ]
  },
  {
   "cell_type": "markdown",
   "id": "2f6a8b1d",
   "metadata": {},
   "source": [
    "### Hyperparameter Tuning"
   ]
  },
  {
   "cell_type": "code",
   "execution_count": 26,
   "id": "1351c238",
   "metadata": {},
   "outputs": [],
   "source": [
    "from sklearn.model_selection import GridSearchCV\n",
    "\n",
    "estimator = Pipeline([(\"scaler\", StandardScaler()),\n",
    "        (\"polynomial_features\", PolynomialFeatures()),\n",
    "        (\"lasso_regression\", Lasso())])\n",
    "\n",
    "params = {\n",
    "    'polynomial_features__degree': [1, 2],\n",
    "    'lasso_regression__alpha': np.geomspace(2*1e-6, 2*1e1, num=25),\n",
    "    'lasso_regression__max_iter': [500000]\n",
    "}\n",
    "\n",
    "grid = GridSearchCV(estimator, params, cv=kf, n_jobs = -1)\n",
    "\n"
   ]
  },
  {
   "cell_type": "code",
   "execution_count": 27,
   "id": "58a8ba84",
   "metadata": {},
   "outputs": [
    {
     "data": {
      "text/plain": [
       "GridSearchCV(cv=KFold(n_splits=3, random_state=72018, shuffle=True),\n",
       "             estimator=Pipeline(steps=[('scaler', StandardScaler()),\n",
       "                                       ('polynomial_features',\n",
       "                                        PolynomialFeatures()),\n",
       "                                       ('lasso_regression', Lasso())]),\n",
       "             n_jobs=-1,\n",
       "             param_grid={'lasso_regression__alpha': array([2.00000000e-06, 3.91468356e-06, 7.66237370e-06, 1.49978842e-05,\n",
       "       2.93559854e-05, 5.74596967e-05, 1.12468265e-04, 2.20138834e-04,\n",
       "       4.30886938e-04, 8.43393007e-04, 1.65080837e-03, 3.23119620e-03,\n",
       "       6.32455532e-03, 1.23793164e-02, 2.42305532e-02, 4.74274741e-02,\n",
       "       9.28317767e-02, 1.81703515e-01, 3.55655882e-01, 6.96140118e-01,\n",
       "       1.36258414e+00, 2.66704286e+00, 5.22031443e+00, 1.02179395e+01,\n",
       "       2.00000000e+01]),\n",
       "                         'lasso_regression__max_iter': [500000],\n",
       "                         'polynomial_features__degree': [1, 2]})"
      ]
     },
     "execution_count": 27,
     "metadata": {},
     "output_type": "execute_result"
    }
   ],
   "source": [
    "grid.fit(X_train, y_train)"
   ]
  },
  {
   "cell_type": "code",
   "execution_count": 28,
   "id": "633a0bde",
   "metadata": {},
   "outputs": [
    {
     "data": {
      "text/plain": [
       "{'lasso_regression__alpha': 0.024230553172571806,\n",
       " 'lasso_regression__max_iter': 500000,\n",
       " 'polynomial_features__degree': 2}"
      ]
     },
     "execution_count": 28,
     "metadata": {},
     "output_type": "execute_result"
    }
   ],
   "source": [
    "grid.best_params_"
   ]
  },
  {
   "cell_type": "code",
   "execution_count": 29,
   "id": "086d024b",
   "metadata": {},
   "outputs": [
    {
     "name": "stdout",
     "output_type": "stream",
     "text": [
      "CV score        : 0.8218676546512536\n",
      "Train (R2 score): 0.9182828684136235\n",
      "Test (R2 score) : 0.8962041804782569\n"
     ]
    }
   ],
   "source": [
    "estimator_Lp = Pipeline([(\"scaler\", StandardScaler()),\n",
    "        (\"polynomial_features\", PolynomialFeatures(degree = 2)),\n",
    "        (\"lasso_regression\", Lasso(alpha= 0.0242, max_iter= 500000))])\n",
    "\n",
    "\n",
    "#----------------------------- CV----------------------\n",
    "predictions_CV = cross_val_predict(estimator_Lp, X_train, y_train, cv=kf)\n",
    "\n",
    "#------------------------------Train accuracy------------\n",
    "estimator_Lp.fit(X_train, y_train)\n",
    "predictions_train = estimator_Lp.predict(X_train)\n",
    "\n",
    "#------------------------------Test accuracy \n",
    "predictions_test = estimator_Lp.predict(X_test)\n",
    "\n",
    "print(\"CV score        :\", r2_score(y_train, predictions_CV))\n",
    "print(\"Train (R2 score):\", r2_score(y_train, predictions_train))\n",
    "print(\"Test (R2 score) :\", r2_score(y_test, predictions_test))\n",
    "\n"
   ]
  },
  {
   "cell_type": "code",
   "execution_count": 30,
   "id": "954d5671",
   "metadata": {},
   "outputs": [
    {
     "name": "stdout",
     "output_type": "stream",
     "text": [
      "Total Features without Polynomial         :  13\n",
      "Total Features with Polynomial (degree =2): 65\n"
     ]
    }
   ],
   "source": [
    "estimator_Lp.fit(X_train, y_train)\n",
    "print(\"Total Features without Polynomial         : \",X_train.shape[1])\n",
    "\n",
    "NonZero_Lp = [x for x in list(estimator_Lp.named_steps[\"lasso_regression\"].coef_) if abs(x) >= 0.01]\n",
    "print(\"Total Features with Polynomial (degree =2):\",len(NonZero_Lp))\n",
    "\n"
   ]
  },
  {
   "cell_type": "markdown",
   "id": "87c01548",
   "metadata": {},
   "source": [
    "**With LASSO Regression we have managed to reduce the model complexity while maintaing accuracy similar to Ridge regression**"
   ]
  },
  {
   "cell_type": "code",
   "execution_count": 31,
   "id": "dbec6a31",
   "metadata": {},
   "outputs": [],
   "source": [
    "df_importances = pd.DataFrame(zip(estimator_Lp.named_steps[\"polynomial_features\"].get_feature_names(input_features= X_train.columns),\n",
    "                 estimator_Lp.named_steps[\"lasso_regression\"].coef_,\n",
    "))"
   ]
  },
  {
   "cell_type": "code",
   "execution_count": 32,
   "id": "0094b257",
   "metadata": {},
   "outputs": [],
   "source": [
    "df_importances.columns = ['features', 'importances']"
   ]
  },
  {
   "cell_type": "code",
   "execution_count": 33,
   "id": "e41a7ba5",
   "metadata": {},
   "outputs": [
    {
     "data": {
      "text/html": [
       "<div>\n",
       "<style scoped>\n",
       "    .dataframe tbody tr th:only-of-type {\n",
       "        vertical-align: middle;\n",
       "    }\n",
       "\n",
       "    .dataframe tbody tr th {\n",
       "        vertical-align: top;\n",
       "    }\n",
       "\n",
       "    .dataframe thead th {\n",
       "        text-align: right;\n",
       "    }\n",
       "</style>\n",
       "<table border=\"1\" class=\"dataframe\">\n",
       "  <thead>\n",
       "    <tr style=\"text-align: right;\">\n",
       "      <th></th>\n",
       "      <th>features</th>\n",
       "      <th>importances</th>\n",
       "    </tr>\n",
       "  </thead>\n",
       "  <tbody>\n",
       "    <tr>\n",
       "      <th>5</th>\n",
       "      <td>NOX</td>\n",
       "      <td>-1.098783</td>\n",
       "    </tr>\n",
       "    <tr>\n",
       "      <th>6</th>\n",
       "      <td>RM</td>\n",
       "      <td>3.507751</td>\n",
       "    </tr>\n",
       "    <tr>\n",
       "      <th>8</th>\n",
       "      <td>DIS</td>\n",
       "      <td>-2.964955</td>\n",
       "    </tr>\n",
       "    <tr>\n",
       "      <th>9</th>\n",
       "      <td>RAD</td>\n",
       "      <td>1.195664</td>\n",
       "    </tr>\n",
       "    <tr>\n",
       "      <th>10</th>\n",
       "      <td>TAX</td>\n",
       "      <td>-1.602044</td>\n",
       "    </tr>\n",
       "    <tr>\n",
       "      <th>13</th>\n",
       "      <td>LSTAT</td>\n",
       "      <td>-3.533813</td>\n",
       "    </tr>\n",
       "    <tr>\n",
       "      <th>17</th>\n",
       "      <td>CRIM CHAS</td>\n",
       "      <td>3.779286</td>\n",
       "    </tr>\n",
       "    <tr>\n",
       "      <th>64</th>\n",
       "      <td>NOX RAD</td>\n",
       "      <td>-1.293770</td>\n",
       "    </tr>\n",
       "    <tr>\n",
       "      <th>72</th>\n",
       "      <td>RM RAD</td>\n",
       "      <td>-1.275552</td>\n",
       "    </tr>\n",
       "    <tr>\n",
       "      <th>79</th>\n",
       "      <td>AGE RAD</td>\n",
       "      <td>1.744242</td>\n",
       "    </tr>\n",
       "    <tr>\n",
       "      <th>82</th>\n",
       "      <td>AGE B</td>\n",
       "      <td>-1.047002</td>\n",
       "    </tr>\n",
       "    <tr>\n",
       "      <th>84</th>\n",
       "      <td>DIS^2</td>\n",
       "      <td>1.111496</td>\n",
       "    </tr>\n",
       "    <tr>\n",
       "      <th>94</th>\n",
       "      <td>RAD LSTAT</td>\n",
       "      <td>-1.535159</td>\n",
       "    </tr>\n",
       "    <tr>\n",
       "      <th>96</th>\n",
       "      <td>TAX PTRATIO</td>\n",
       "      <td>2.027448</td>\n",
       "    </tr>\n",
       "    <tr>\n",
       "      <th>98</th>\n",
       "      <td>TAX LSTAT</td>\n",
       "      <td>-1.300801</td>\n",
       "    </tr>\n",
       "  </tbody>\n",
       "</table>\n",
       "</div>"
      ],
      "text/plain": [
       "       features  importances\n",
       "5           NOX    -1.098783\n",
       "6            RM     3.507751\n",
       "8           DIS    -2.964955\n",
       "9           RAD     1.195664\n",
       "10          TAX    -1.602044\n",
       "13        LSTAT    -3.533813\n",
       "17    CRIM CHAS     3.779286\n",
       "64      NOX RAD    -1.293770\n",
       "72       RM RAD    -1.275552\n",
       "79      AGE RAD     1.744242\n",
       "82        AGE B    -1.047002\n",
       "84        DIS^2     1.111496\n",
       "94    RAD LSTAT    -1.535159\n",
       "96  TAX PTRATIO     2.027448\n",
       "98    TAX LSTAT    -1.300801"
      ]
     },
     "execution_count": 33,
     "metadata": {},
     "output_type": "execute_result"
    }
   ],
   "source": [
    "df_most_important = df_importances[abs(df_importances.importances) > 1.0]\n",
    "\n",
    "df_most_important"
   ]
  },
  {
   "cell_type": "markdown",
   "id": "dcbf6feb",
   "metadata": {},
   "source": [
    "**The most important coefficients consistent with our EDA analysis. RM and LSTAT have the highest absolute magnitude of coefficients**"
   ]
  },
  {
   "cell_type": "markdown",
   "id": "9d63157c",
   "metadata": {},
   "source": [
    "### 3d. ElasticNet Regression "
   ]
  },
  {
   "cell_type": "code",
   "execution_count": 34,
   "id": "f803f402",
   "metadata": {},
   "outputs": [],
   "source": [
    "from sklearn.model_selection import GridSearchCV\n",
    "\n",
    "estimator = Pipeline([(\"scaler\", StandardScaler()),\n",
    "        (\"polynomial_features\", PolynomialFeatures()),\n",
    "        (\"elasticnet_regression\", ElasticNet())])\n",
    "\n",
    "params = {\n",
    "    'polynomial_features__degree': [1, 2],\n",
    "    'elasticnet_regression__alpha': np.geomspace(2*1e-6, 2*1e1, num=25),\n",
    "    'elasticnet_regression__l1_ratio':np.linspace(0.1, 0.9, 9),\n",
    "    'elasticnet_regression__max_iter': [500000]\n",
    "}\n",
    "\n",
    "grid = GridSearchCV(estimator, params, cv=kf, n_jobs = -1)\n",
    "\n",
    "\n"
   ]
  },
  {
   "cell_type": "code",
   "execution_count": 35,
   "id": "76d82a48",
   "metadata": {},
   "outputs": [
    {
     "data": {
      "text/plain": [
       "GridSearchCV(cv=KFold(n_splits=3, random_state=72018, shuffle=True),\n",
       "             estimator=Pipeline(steps=[('scaler', StandardScaler()),\n",
       "                                       ('polynomial_features',\n",
       "                                        PolynomialFeatures()),\n",
       "                                       ('elasticnet_regression',\n",
       "                                        ElasticNet())]),\n",
       "             n_jobs=-1,\n",
       "             param_grid={'elasticnet_regression__alpha': array([2.00000000e-06, 3.91468356e-06, 7.66237370e-06, 1.49978842e-05,\n",
       "       2.93559854e-05, 5.7459696...\n",
       "       6.32455532e-03, 1.23793164e-02, 2.42305532e-02, 4.74274741e-02,\n",
       "       9.28317767e-02, 1.81703515e-01, 3.55655882e-01, 6.96140118e-01,\n",
       "       1.36258414e+00, 2.66704286e+00, 5.22031443e+00, 1.02179395e+01,\n",
       "       2.00000000e+01]),\n",
       "                         'elasticnet_regression__l1_ratio': array([0.1, 0.2, 0.3, 0.4, 0.5, 0.6, 0.7, 0.8, 0.9]),\n",
       "                         'elasticnet_regression__max_iter': [500000],\n",
       "                         'polynomial_features__degree': [1, 2]})"
      ]
     },
     "execution_count": 35,
     "metadata": {},
     "output_type": "execute_result"
    }
   ],
   "source": [
    "grid.fit(X_train,y_train)"
   ]
  },
  {
   "cell_type": "code",
   "execution_count": 36,
   "id": "9ab4cde0",
   "metadata": {},
   "outputs": [
    {
     "data": {
      "text/plain": [
       "{'elasticnet_regression__alpha': 0.047427474113233115,\n",
       " 'elasticnet_regression__l1_ratio': 0.1,\n",
       " 'elasticnet_regression__max_iter': 500000,\n",
       " 'polynomial_features__degree': 2}"
      ]
     },
     "execution_count": 36,
     "metadata": {},
     "output_type": "execute_result"
    }
   ],
   "source": [
    "grid.best_params_"
   ]
  },
  {
   "cell_type": "code",
   "execution_count": 37,
   "id": "49ab7063",
   "metadata": {},
   "outputs": [
    {
     "name": "stdout",
     "output_type": "stream",
     "text": [
      "CV score        : 0.8313374404755497\n",
      "Train (R2 score): 0.9110953468997752\n",
      "Test (R2 score) : 0.904971848865177\n"
     ]
    }
   ],
   "source": [
    "estimator_ENp = Pipeline([(\"scaler\", StandardScaler()),\n",
    "        (\"polynomial_features\", PolynomialFeatures(degree = 2)),\n",
    "        (\"elasticnet_regression\", ElasticNet(alpha= 0.047, l1_ratio =0.1, max_iter= 500000))])\n",
    "\n",
    "\n",
    "#----------------------------- CV----------------------\n",
    "predictions_CV = cross_val_predict(estimator_ENp, X_train, y_train, cv=kf)\n",
    "\n",
    "#------------------------------Train accuracy------------\n",
    "estimator_ENp.fit(X_train, y_train)\n",
    "predictions_train = estimator_ENp.predict(X_train)\n",
    "\n",
    "#------------------------------Test accuracy \n",
    "predictions_test = estimator_ENp.predict(X_test)\n",
    "\n",
    "print(\"CV score        :\", r2_score(y_train, predictions_CV))\n",
    "print(\"Train (R2 score):\", r2_score(y_train, predictions_train))\n",
    "print(\"Test (R2 score) :\", r2_score(y_test, predictions_test))\n"
   ]
  },
  {
   "cell_type": "markdown",
   "id": "74499c96",
   "metadata": {},
   "source": [
    "# 4. Evaluation of the models "
   ]
  },
  {
   "cell_type": "code",
   "execution_count": 38,
   "id": "77e6a1d8",
   "metadata": {},
   "outputs": [
    {
     "name": "stdout",
     "output_type": "stream",
     "text": [
      "Linear Regression:\n",
      "Train (RMSE) \t\t:     23.48\n",
      "Test (RMSE) \t\t:     13.72 \n",
      "\n",
      "Linear Regression (Polynomial, degree = 2):\n",
      "Train (RMSE) \t\t:      5.95\n",
      "Test  (RMSE) \t\t:      9.15 \n",
      "\n",
      "Ridge Regression (Polynomial, degree = 2):\n",
      "Train (RMSE) \t\t:      7.01\n",
      "Test  (RMSE) \t\t:      6.82\n",
      "\n",
      "Lasso Regression (Polynomial, degree = 2):\n",
      "Train (RMSE) \t\t:      7.16\n",
      "Test  (RMSE) \t\t:      6.78\n",
      "\n",
      "ElasticNet Regression (Polynomial, degree = 2):\n",
      "Train (RMSE) \t\t:      7.79\n",
      "Test  (RMSE) \t\t:      6.21\n"
     ]
    }
   ],
   "source": [
    "from sklearn.metrics import mean_squared_error\n",
    "\n",
    "print(\"Linear Regression:\")\n",
    "\n",
    "estimator_lr.fit(X_train, y_train)\n",
    "print(\"Train (RMSE) \\t\\t:%10.2f\"%mean_squared_error(y_train, estimator_lr.predict(X_train)))\n",
    "print(\"Test (RMSE) \\t\\t:%10.2f \\n\"%mean_squared_error(y_test, estimator_lr.predict(X_test)))    \n",
    "\n",
    "\n",
    "\n",
    "\n",
    "print(\"Linear Regression (Polynomial, degree = 2):\")\n",
    "\n",
    "estimator_lrp.fit(X_train, y_train)\n",
    "print(\"Train (RMSE) \\t\\t:%10.2f\"%mean_squared_error(y_train, estimator_lrp.predict(X_train)))\n",
    "print(\"Test  (RMSE) \\t\\t:%10.2f \\n\"%mean_squared_error(y_test, estimator_lrp.predict(X_test)))\n",
    "\n",
    "\n",
    "\n",
    "print(\"Ridge Regression (Polynomial, degree = 2):\")\n",
    "\n",
    "estimator_Rp.fit(X_train,y_train)\n",
    "print(\"Train (RMSE) \\t\\t:%10.2f\"%mean_squared_error(y_train, estimator_Rp.predict(X_train)))\n",
    "print(\"Test  (RMSE) \\t\\t:%10.2f\\n\"%mean_squared_error(y_test, estimator_Rp.predict(X_test)))\n",
    "\n",
    "\n",
    "\n",
    "print(\"Lasso Regression (Polynomial, degree = 2):\")\n",
    "\n",
    "estimator_Lp.fit(X_train, y_train)\n",
    "print(\"Train (RMSE) \\t\\t:%10.2f\"%mean_squared_error(y_train, estimator_Lp.predict(X_train)))\n",
    "print(\"Test  (RMSE) \\t\\t:%10.2f\\n\"%mean_squared_error(y_test, estimator_Lp.predict(X_test)))\n",
    "\n",
    "\n",
    "\n",
    "\n",
    "print(\"ElasticNet Regression (Polynomial, degree = 2):\")\n",
    "\n",
    "estimator_ENp.fit(X_train, y_train)\n",
    "print(\"Train (RMSE) \\t\\t:%10.2f\"%mean_squared_error(y_train, estimator_ENp.predict(X_train)))\n",
    "print(\"Test  (RMSE) \\t\\t:%10.2f\"%mean_squared_error(y_test, estimator_ENp.predict(X_test)))\n",
    "\n",
    "\n"
   ]
  },
  {
   "cell_type": "code",
   "execution_count": 39,
   "id": "8604ad06",
   "metadata": {},
   "outputs": [
    {
     "name": "stdout",
     "output_type": "stream",
     "text": [
      "Linear Regression:\n",
      "Train (R2 score) \t\t:      0.73\n",
      "Test (R2 score) \t\t:      0.79 \n",
      "\n",
      "Linear Regression (Polynomial, degree = 2):\n",
      "Train (R2 score) \t\t:      0.93\n",
      "Test  (R2 score) \t\t:      0.86 \n",
      "\n",
      "Ridge Regression (Polynomial, degree = 2):\n",
      "Train (R2 score) \t\t:      0.92\n",
      "Test  (R2 score) \t\t:      0.90\n",
      "\n",
      "Lasso Regression (Polynomial, degree = 2):\n",
      "Train (R2 score) \t\t:      0.92\n",
      "Test  (R2 score) \t\t:      0.90\n",
      "\n",
      "ElasticNet Regression (Polynomial, degree = 2):\n",
      "Train (R2 score) \t\t:      0.91\n",
      "Test  (R2 score) \t\t:      0.90\n",
      "\n"
     ]
    }
   ],
   "source": [
    "print(\"Linear Regression:\")\n",
    "\n",
    "estimator_lr.fit(X_train, y_train)\n",
    "print(\"Train (R2 score) \\t\\t:%10.2f\"%r2_score(y_train, estimator_lr.predict(X_train)))\n",
    "print(\"Test (R2 score) \\t\\t:%10.2f \\n\"%r2_score(y_test, estimator_lr.predict(X_test)))    \n",
    "\n",
    "\n",
    "print(\"Linear Regression (Polynomial, degree = 2):\")\n",
    "\n",
    "estimator_lrp.fit(X_train, y_train)\n",
    "print(\"Train (R2 score) \\t\\t:%10.2f\"%r2_score(y_train, estimator_lrp.predict(X_train)))\n",
    "print(\"Test  (R2 score) \\t\\t:%10.2f \\n\"%r2_score(y_test, estimator_lrp.predict(X_test)))\n",
    "\n",
    "\n",
    "print(\"Ridge Regression (Polynomial, degree = 2):\")\n",
    "\n",
    "estimator_Rp.fit(X_train,y_train)\n",
    "print(\"Train (R2 score) \\t\\t:%10.2f\"%r2_score(y_train, estimator_Rp.predict(X_train)))\n",
    "print(\"Test  (R2 score) \\t\\t:%10.2f\\n\"%r2_score(y_test, estimator_Rp.predict(X_test)))\n",
    "\n",
    "\n",
    "print(\"Lasso Regression (Polynomial, degree = 2):\")\n",
    "\n",
    "estimator_Lp.fit(X_train, y_train)\n",
    "print(\"Train (R2 score) \\t\\t:%10.2f\"%r2_score(y_train, estimator_Lp.predict(X_train)))\n",
    "print(\"Test  (R2 score) \\t\\t:%10.2f\\n\"%r2_score(y_test, estimator_Lp.predict(X_test)))\n",
    "\n",
    "\n",
    "print(\"ElasticNet Regression (Polynomial, degree = 2):\")\n",
    "\n",
    "estimator_ENp.fit(X_train, y_train)\n",
    "print(\"Train (R2 score) \\t\\t:%10.2f\"%r2_score(y_train, estimator_ENp.predict(X_train)))\n",
    "print(\"Test  (R2 score) \\t\\t:%10.2f\\n\"%r2_score(y_test, estimator_ENp.predict(X_test)))\n",
    "\n"
   ]
  },
  {
   "cell_type": "markdown",
   "id": "d81dddc5",
   "metadata": {},
   "source": [
    "# 5. Summary"
   ]
  },
  {
   "cell_type": "markdown",
   "id": "e3e5b611",
   "metadata": {},
   "source": [
    "**We observe that for the boston housing data simple or plain linear regression does not give a good prediction.Addition of degree 2 polynomial improves the prediction while simultaneously increases the complexity and overfitting. This is observed my decrease in prediction accuracy (R2) for train and test datasets.**\n",
    "\n",
    "**To overcome this problem I have use regularization with Ridge, Lasso and ElasticNet. \n",
    "All of the models help to reduce the complexity and helps us to obtain a model with similar prediction to the training dataset. \n",
    "All of these models were carried out with a polynomial of degree = 2 and gridsearch was carried out to fit the training data to find the appropriate hyperparameters for the model.**\n"
   ]
  }
 ],
 "metadata": {
  "kernelspec": {
   "display_name": "Python 3",
   "language": "python",
   "name": "python3"
  },
  "language_info": {
   "codemirror_mode": {
    "name": "ipython",
    "version": 3
   },
   "file_extension": ".py",
   "mimetype": "text/x-python",
   "name": "python",
   "nbconvert_exporter": "python",
   "pygments_lexer": "ipython3",
   "version": "3.9.5"
  }
 },
 "nbformat": 4,
 "nbformat_minor": 5
}
